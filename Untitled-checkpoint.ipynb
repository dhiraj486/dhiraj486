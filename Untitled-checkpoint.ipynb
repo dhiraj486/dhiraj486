{
 "cells": [
  {
   "cell_type": "code",
   "execution_count": 4,
   "id": "28e51fe5",
   "metadata": {},
   "outputs": [
    {
     "name": "stdout",
     "output_type": "stream",
     "text": [
      "Positive numbers in the list:  12 5 64\n"
     ]
    }
   ],
   "source": [
    "# Python program to print Positive Numbers in a List\n",
    "\n",
    "# list of numbers\n",
    "list1 = [12, -7, 5, 64, -14]\n",
    "\n",
    "# using list comprehension\n",
    "pos_nos = [num for num in list1 if num >= 0]\n",
    "\n",
    "print(\"Positive numbers in the list: \", *pos_nos)\n"
   ]
  },
  {
   "cell_type": "code",
   "execution_count": 5,
   "id": "9b05352f",
   "metadata": {},
   "outputs": [
    {
     "name": "stdout",
     "output_type": "stream",
     "text": [
      "Positive numbers in the list:  12 14 3\n"
     ]
    }
   ],
   "source": [
    "# Python program to print Positive Numbers in a List\n",
    "\n",
    "# list of numbers\n",
    "list1 = [12, 14, -95, 3]\n",
    "\n",
    "# using list comprehension\n",
    "pos_nos = [num for num in list1 if num >= 0]\n",
    "\n",
    "print(\"Positive numbers in the list: \", *pos_nos)\n"
   ]
  },
  {
   "cell_type": "code",
   "execution_count": null,
   "id": "438033ad",
   "metadata": {},
   "outputs": [],
   "source": []
  }
 ],
 "metadata": {
  "kernelspec": {
   "display_name": "Python 3 (ipykernel)",
   "language": "python",
   "name": "python3"
  },
  "language_info": {
   "codemirror_mode": {
    "name": "ipython",
    "version": 3
   },
   "file_extension": ".py",
   "mimetype": "text/x-python",
   "name": "python",
   "nbconvert_exporter": "python",
   "pygments_lexer": "ipython3",
   "version": "3.9.5"
  }
 },
 "nbformat": 4,
 "nbformat_minor": 5
}
